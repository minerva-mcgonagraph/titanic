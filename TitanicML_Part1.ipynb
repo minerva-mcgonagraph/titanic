{
  "nbformat": 4,
  "nbformat_minor": 0,
  "metadata": {
    "colab": {
      "name": "TitanicML.ipynb",
      "provenance": [],
      "collapsed_sections": [
        "OhwUdzYZEaiS"
      ],
      "authorship_tag": "ABX9TyM/qTIfEbQWQvy2YHSteSlz",
      "include_colab_link": true
    },
    "kernelspec": {
      "name": "python3",
      "display_name": "Python 3"
    }
  },
  "cells": [
    {
      "cell_type": "markdown",
      "metadata": {
        "id": "view-in-github",
        "colab_type": "text"
      },
      "source": [
        "<a href=\"https://colab.research.google.com/github/minerva-mcgonagraph/titanic/blob/master/TitanicML_Part1.ipynb\" target=\"_parent\"><img src=\"https://colab.research.google.com/assets/colab-badge.svg\" alt=\"Open In Colab\"/></a>"
      ]
    },
    {
      "cell_type": "markdown",
      "metadata": {
        "id": "MuP9Kxn-BLV-",
        "colab_type": "text"
      },
      "source": [
        "# Titanic: Machine Learning Model Part 1"
      ]
    },
    {
      "cell_type": "markdown",
      "metadata": {
        "id": "CFGoln9Eln9g",
        "colab_type": "text"
      },
      "source": [
        "On April 10, 1912 the unsinkable Titanic set sail on her maiden voyage. But we all know the story from here. Too-fast speeds, drifting icebergs, and possibly some fire damage led the Titanic to the bottom of the ocean five days later. A lack of lifeboats, which were only ever meant to ferry passengers to a rescue ship, unseasonably frigid waters, and the inaction of a nearby ship led to the deaths of two-thirds of those aboard. What was left was a passenger manifest, each row with a cruel label: 1 for Survived and 0 for Did Not Survive. "
      ]
    },
    {
      "cell_type": "markdown",
      "metadata": {
        "id": "VUSwKmYUBhsO",
        "colab_type": "text"
      },
      "source": [
        "![Screenshot from Titanic (1997) showing the ship setting sail from its dock.](https://m.media-amazon.com/images/M/MV5BMWFlOTk3MWYtOGIxOS00NTQ1LWFhODAtOWU5MDM3NzcwYTMwXkEyXkFqcGdeQXVyMjMzMDI4MjQ@._V1_SX1777_CR0,0,1777,999_AL_.jpg)\n",
        "\n",
        "Screenshot from [IMDb](https://www.imdb.com/title/tt0120338/mediaindex?page=1&ref_=ttmi_mi_sm)."
      ]
    },
    {
      "cell_type": "markdown",
      "metadata": {
        "id": "bTLS4AcNlzhX",
        "colab_type": "text"
      },
      "source": [
        "[Kaggle has created a competition](https://www.kaggle.com/c/titanic): develop a machine learning model to predict which passengers survived. In this notebook, we will develop such a model, using features as class, gender, age, and more. The focus of this notebook is on cleaning data and data engineering, so the models themselves will be simple.\n",
        "\n",
        "First we'll look at a few basic features to get a working model. Then we'll look deeper at the string data such as names and ticket numbers and see if that improves the model. Finally we'll do more improvements and test our model against brand new, fictional data: characters from the 1997 movie.\n",
        "\n"
      ]
    },
    {
      "cell_type": "markdown",
      "metadata": {
        "id": "1kzJuX0cB6Yb",
        "colab_type": "text"
      },
      "source": [
        "To read this notebook, simply scroll through - don't run the cells. If you wish to run the cells, you will need to create an account on Kaggle and download the API token for your account. It's free, just follow the instructions in the setup below."
      ]
    },
    {
      "cell_type": "markdown",
      "metadata": {
        "id": "OhwUdzYZEaiS",
        "colab_type": "text"
      },
      "source": [
        "# Setup"
      ]
    },
    {
      "cell_type": "code",
      "metadata": {
        "id": "8FDi9u8TqneQ",
        "colab_type": "code",
        "cellView": "both",
        "colab": {}
      },
      "source": [
        "#import libraries\n",
        "import math\n",
        "\n",
        "from IPython import display\n",
        "from matplotlib import cm\n",
        "from matplotlib import gridspec\n",
        "from matplotlib import pyplot as plt\n",
        "import numpy as np\n",
        "import pandas as pd\n",
        "import random as rnd\n",
        "import seaborn as sns\n",
        "from sklearn import metrics\n",
        "from sklearn.linear_model import LogisticRegression\n",
        "from google.colab import files\n",
        "\n",
        "pd.options.display.max_rows = 15\n",
        "pd.options.display.float_format = '{:.2f}'.format"
      ],
      "execution_count": 0,
      "outputs": []
    },
    {
      "cell_type": "code",
      "metadata": {
        "id": "SVGvdw8AqnnI",
        "colab_type": "code",
        "cellView": "both",
        "colab": {}
      },
      "source": [
        "#get info to get data from kaggle\n",
        "#if you, friend, wish to run this, you will need to:\n",
        "#1. Create a kaggle account\n",
        "#2. Sign up for the ongoing Titantic competition\n",
        "#3. In account settings, generate a new API token (a json file) and download it\n",
        "#4. Make sure it's named kaggle.json\n",
        "#5. Run this cell to upload it here\n",
        "#it's all free :)\n",
        "files.upload()"
      ],
      "execution_count": 0,
      "outputs": []
    },
    {
      "cell_type": "code",
      "metadata": {
        "id": "ktxKcZ41qntq",
        "colab_type": "code",
        "cellView": "both",
        "colab": {}
      },
      "source": [
        "#get data from kaggle\n",
        "!mkdir -p ~/.kaggle\n",
        "!cp kaggle.json ~/.kaggle/\n",
        "!chmod 600 ~/.kaggle/kaggle.json\n",
        "!ls ~/.kaggle\n",
        "\n",
        "!ls -l ~/.kaggle\n",
        "!cat ~/.kaggle/kaggle.json\n",
        "\n",
        "!pip install -q kaggle\n",
        "!pip install -q kaggle-cli\n",
        "\n",
        "!kaggle competitions download -c titanic\n",
        "\n",
        "print(\"The data is ready, m'lord.\")"
      ],
      "execution_count": 0,
      "outputs": []
    },
    {
      "cell_type": "code",
      "metadata": {
        "id": "E5MNxQV-qn4y",
        "colab_type": "code",
        "cellView": "both",
        "colab": {}
      },
      "source": [
        "#turn each csv into a pandas dataframe\n",
        "df_train = pd.read_csv('./train.csv')\n",
        "df_test = pd.read_csv('./test.csv')\n",
        "df_both = [df_train, df_test]\n",
        "\n",
        "#randomize the training data\n",
        "df_train = df_train.reindex(np.random.permutation(df_train.index))"
      ],
      "execution_count": 0,
      "outputs": []
    },
    {
      "cell_type": "markdown",
      "metadata": {
        "id": "mAa36hC5FQaz",
        "colab_type": "text"
      },
      "source": [
        "# First Look at the Data"
      ]
    },
    {
      "cell_type": "markdown",
      "metadata": {
        "id": "L7A39UuVgMmg",
        "colab_type": "text"
      },
      "source": [
        "First let's look at what we're dealing with. We'll look at the data types and feature descriptions."
      ]
    },
    {
      "cell_type": "code",
      "metadata": {
        "id": "k3A9VVmDzcX5",
        "colab_type": "code",
        "outputId": "a2f3e0f2-0b4b-4eb5-ee18-d7cb17c0ccb5",
        "colab": {
          "base_uri": "https://localhost:8080/",
          "height": 238
        }
      },
      "source": [
        "df_train.dtypes"
      ],
      "execution_count": 0,
      "outputs": [
        {
          "output_type": "execute_result",
          "data": {
            "text/plain": [
              "PassengerId      int64\n",
              "Survived         int64\n",
              "Pclass           int64\n",
              "Name            object\n",
              "Sex             object\n",
              "Age            float64\n",
              "SibSp            int64\n",
              "Parch            int64\n",
              "Ticket          object\n",
              "Fare           float64\n",
              "Cabin           object\n",
              "Embarked        object\n",
              "dtype: object"
            ]
          },
          "metadata": {
            "tags": []
          },
          "execution_count": 7
        }
      ]
    },
    {
      "cell_type": "markdown",
      "metadata": {
        "id": "I2Pz8JQPq_kr",
        "colab_type": "text"
      },
      "source": [
        "From [Kaggle](https://www.kaggle.com/c/titanic/data):\n",
        "\n",
        "Survived: 0 = No, 1 = Yes\n",
        "\n",
        "Pclass: ticket class: 1, 2, or 3\n",
        "\n",
        "Sex: male or female\n",
        "\n",
        "Age: age in years; age is fractional if less than 1. If the age is estimated, it is in the form of xx.5\n",
        "\n",
        "SibSp: number of siblings, spouses also aboard; siblings include brother, sister, and stepbrother and stepsister; spouse includes husband or wife - fiances and mistresses were ignored\n",
        "\n",
        "Parch: number of parents, children also aboard; parent includes mother or father; child includes son, daughter, stepdaughter, stepson. Does not include nannies - some children travelled only with a nanny so this value is 0 for them.\n",
        "\n",
        "ticket: ticket number\n",
        "\n",
        "fare: passenger fare\n",
        "\n",
        "cabin: cabin number\n",
        "\n",
        "embarked: port of embarkation; C = Cherbourg, Q = Queenstown, S = Southampton"
      ]
    },
    {
      "cell_type": "markdown",
      "metadata": {
        "id": "-FZo0diRggN-",
        "colab_type": "text"
      },
      "source": [
        "For this model, our target (label) is Survived, which is a binary 1 (survived) or 0 (did not survive).\n",
        "\n",
        "Our available columns to use for features are Pclass, Name, Sex, Age, SibSp, Parch, Ticket, Fare, Cabin, and Embarked. Let's see what these look like. (PassengerId is just the number of the row in the original list - it's not a feature to use). We'll leave Name, Ticket, and Cabin alone for now, since they are string values that would require some fancier engineering."
      ]
    },
    {
      "cell_type": "code",
      "metadata": {
        "id": "1oyFvecLg6xg",
        "colab_type": "code",
        "outputId": "ef23186b-a288-4763-dcae-2fb229dd09e1",
        "colab": {
          "base_uri": "https://localhost:8080/",
          "height": 514
        }
      },
      "source": [
        "df_train.head(15)"
      ],
      "execution_count": 0,
      "outputs": [
        {
          "output_type": "execute_result",
          "data": {
            "text/html": [
              "<div>\n",
              "<style scoped>\n",
              "    .dataframe tbody tr th:only-of-type {\n",
              "        vertical-align: middle;\n",
              "    }\n",
              "\n",
              "    .dataframe tbody tr th {\n",
              "        vertical-align: top;\n",
              "    }\n",
              "\n",
              "    .dataframe thead th {\n",
              "        text-align: right;\n",
              "    }\n",
              "</style>\n",
              "<table border=\"1\" class=\"dataframe\">\n",
              "  <thead>\n",
              "    <tr style=\"text-align: right;\">\n",
              "      <th></th>\n",
              "      <th>PassengerId</th>\n",
              "      <th>Survived</th>\n",
              "      <th>Pclass</th>\n",
              "      <th>Name</th>\n",
              "      <th>Sex</th>\n",
              "      <th>Age</th>\n",
              "      <th>SibSp</th>\n",
              "      <th>Parch</th>\n",
              "      <th>Ticket</th>\n",
              "      <th>Fare</th>\n",
              "      <th>Cabin</th>\n",
              "      <th>Embarked</th>\n",
              "    </tr>\n",
              "  </thead>\n",
              "  <tbody>\n",
              "    <tr>\n",
              "      <th>322</th>\n",
              "      <td>323</td>\n",
              "      <td>1</td>\n",
              "      <td>2</td>\n",
              "      <td>Slayter, Miss. Hilda Mary</td>\n",
              "      <td>female</td>\n",
              "      <td>30.00</td>\n",
              "      <td>0</td>\n",
              "      <td>0</td>\n",
              "      <td>234818</td>\n",
              "      <td>12.35</td>\n",
              "      <td>NaN</td>\n",
              "      <td>Q</td>\n",
              "    </tr>\n",
              "    <tr>\n",
              "      <th>274</th>\n",
              "      <td>275</td>\n",
              "      <td>1</td>\n",
              "      <td>3</td>\n",
              "      <td>Healy, Miss. Hanora \"Nora\"</td>\n",
              "      <td>female</td>\n",
              "      <td>nan</td>\n",
              "      <td>0</td>\n",
              "      <td>0</td>\n",
              "      <td>370375</td>\n",
              "      <td>7.75</td>\n",
              "      <td>NaN</td>\n",
              "      <td>Q</td>\n",
              "    </tr>\n",
              "    <tr>\n",
              "      <th>650</th>\n",
              "      <td>651</td>\n",
              "      <td>0</td>\n",
              "      <td>3</td>\n",
              "      <td>Mitkoff, Mr. Mito</td>\n",
              "      <td>male</td>\n",
              "      <td>nan</td>\n",
              "      <td>0</td>\n",
              "      <td>0</td>\n",
              "      <td>349221</td>\n",
              "      <td>7.90</td>\n",
              "      <td>NaN</td>\n",
              "      <td>S</td>\n",
              "    </tr>\n",
              "    <tr>\n",
              "      <th>613</th>\n",
              "      <td>614</td>\n",
              "      <td>0</td>\n",
              "      <td>3</td>\n",
              "      <td>Horgan, Mr. John</td>\n",
              "      <td>male</td>\n",
              "      <td>nan</td>\n",
              "      <td>0</td>\n",
              "      <td>0</td>\n",
              "      <td>370377</td>\n",
              "      <td>7.75</td>\n",
              "      <td>NaN</td>\n",
              "      <td>Q</td>\n",
              "    </tr>\n",
              "    <tr>\n",
              "      <th>793</th>\n",
              "      <td>794</td>\n",
              "      <td>0</td>\n",
              "      <td>1</td>\n",
              "      <td>Hoyt, Mr. William Fisher</td>\n",
              "      <td>male</td>\n",
              "      <td>nan</td>\n",
              "      <td>0</td>\n",
              "      <td>0</td>\n",
              "      <td>PC 17600</td>\n",
              "      <td>30.70</td>\n",
              "      <td>NaN</td>\n",
              "      <td>C</td>\n",
              "    </tr>\n",
              "    <tr>\n",
              "      <th>37</th>\n",
              "      <td>38</td>\n",
              "      <td>0</td>\n",
              "      <td>3</td>\n",
              "      <td>Cann, Mr. Ernest Charles</td>\n",
              "      <td>male</td>\n",
              "      <td>21.00</td>\n",
              "      <td>0</td>\n",
              "      <td>0</td>\n",
              "      <td>A./5. 2152</td>\n",
              "      <td>8.05</td>\n",
              "      <td>NaN</td>\n",
              "      <td>S</td>\n",
              "    </tr>\n",
              "    <tr>\n",
              "      <th>567</th>\n",
              "      <td>568</td>\n",
              "      <td>0</td>\n",
              "      <td>3</td>\n",
              "      <td>Palsson, Mrs. Nils (Alma Cornelia Berglund)</td>\n",
              "      <td>female</td>\n",
              "      <td>29.00</td>\n",
              "      <td>0</td>\n",
              "      <td>4</td>\n",
              "      <td>349909</td>\n",
              "      <td>21.07</td>\n",
              "      <td>NaN</td>\n",
              "      <td>S</td>\n",
              "    </tr>\n",
              "    <tr>\n",
              "      <th>856</th>\n",
              "      <td>857</td>\n",
              "      <td>1</td>\n",
              "      <td>1</td>\n",
              "      <td>Wick, Mrs. George Dennick (Mary Hitchcock)</td>\n",
              "      <td>female</td>\n",
              "      <td>45.00</td>\n",
              "      <td>1</td>\n",
              "      <td>1</td>\n",
              "      <td>36928</td>\n",
              "      <td>164.87</td>\n",
              "      <td>NaN</td>\n",
              "      <td>S</td>\n",
              "    </tr>\n",
              "    <tr>\n",
              "      <th>443</th>\n",
              "      <td>444</td>\n",
              "      <td>1</td>\n",
              "      <td>2</td>\n",
              "      <td>Reynaldo, Ms. Encarnacion</td>\n",
              "      <td>female</td>\n",
              "      <td>28.00</td>\n",
              "      <td>0</td>\n",
              "      <td>0</td>\n",
              "      <td>230434</td>\n",
              "      <td>13.00</td>\n",
              "      <td>NaN</td>\n",
              "      <td>S</td>\n",
              "    </tr>\n",
              "    <tr>\n",
              "      <th>345</th>\n",
              "      <td>346</td>\n",
              "      <td>1</td>\n",
              "      <td>2</td>\n",
              "      <td>Brown, Miss. Amelia \"Mildred\"</td>\n",
              "      <td>female</td>\n",
              "      <td>24.00</td>\n",
              "      <td>0</td>\n",
              "      <td>0</td>\n",
              "      <td>248733</td>\n",
              "      <td>13.00</td>\n",
              "      <td>F33</td>\n",
              "      <td>S</td>\n",
              "    </tr>\n",
              "    <tr>\n",
              "      <th>407</th>\n",
              "      <td>408</td>\n",
              "      <td>1</td>\n",
              "      <td>2</td>\n",
              "      <td>Richards, Master. William Rowe</td>\n",
              "      <td>male</td>\n",
              "      <td>3.00</td>\n",
              "      <td>1</td>\n",
              "      <td>1</td>\n",
              "      <td>29106</td>\n",
              "      <td>18.75</td>\n",
              "      <td>NaN</td>\n",
              "      <td>S</td>\n",
              "    </tr>\n",
              "    <tr>\n",
              "      <th>211</th>\n",
              "      <td>212</td>\n",
              "      <td>1</td>\n",
              "      <td>2</td>\n",
              "      <td>Cameron, Miss. Clear Annie</td>\n",
              "      <td>female</td>\n",
              "      <td>35.00</td>\n",
              "      <td>0</td>\n",
              "      <td>0</td>\n",
              "      <td>F.C.C. 13528</td>\n",
              "      <td>21.00</td>\n",
              "      <td>NaN</td>\n",
              "      <td>S</td>\n",
              "    </tr>\n",
              "    <tr>\n",
              "      <th>779</th>\n",
              "      <td>780</td>\n",
              "      <td>1</td>\n",
              "      <td>1</td>\n",
              "      <td>Robert, Mrs. Edward Scott (Elisabeth Walton Mc...</td>\n",
              "      <td>female</td>\n",
              "      <td>43.00</td>\n",
              "      <td>0</td>\n",
              "      <td>1</td>\n",
              "      <td>24160</td>\n",
              "      <td>211.34</td>\n",
              "      <td>B3</td>\n",
              "      <td>S</td>\n",
              "    </tr>\n",
              "    <tr>\n",
              "      <th>677</th>\n",
              "      <td>678</td>\n",
              "      <td>1</td>\n",
              "      <td>3</td>\n",
              "      <td>Turja, Miss. Anna Sofia</td>\n",
              "      <td>female</td>\n",
              "      <td>18.00</td>\n",
              "      <td>0</td>\n",
              "      <td>0</td>\n",
              "      <td>4138</td>\n",
              "      <td>9.84</td>\n",
              "      <td>NaN</td>\n",
              "      <td>S</td>\n",
              "    </tr>\n",
              "    <tr>\n",
              "      <th>696</th>\n",
              "      <td>697</td>\n",
              "      <td>0</td>\n",
              "      <td>3</td>\n",
              "      <td>Kelly, Mr. James</td>\n",
              "      <td>male</td>\n",
              "      <td>44.00</td>\n",
              "      <td>0</td>\n",
              "      <td>0</td>\n",
              "      <td>363592</td>\n",
              "      <td>8.05</td>\n",
              "      <td>NaN</td>\n",
              "      <td>S</td>\n",
              "    </tr>\n",
              "  </tbody>\n",
              "</table>\n",
              "</div>"
            ],
            "text/plain": [
              "     PassengerId  Survived  Pclass  ...   Fare Cabin  Embarked\n",
              "322          323         1       2  ...  12.35   NaN         Q\n",
              "274          275         1       3  ...   7.75   NaN         Q\n",
              "650          651         0       3  ...   7.90   NaN         S\n",
              "613          614         0       3  ...   7.75   NaN         Q\n",
              "793          794         0       1  ...  30.70   NaN         C\n",
              "37            38         0       3  ...   8.05   NaN         S\n",
              "567          568         0       3  ...  21.07   NaN         S\n",
              "856          857         1       1  ... 164.87   NaN         S\n",
              "443          444         1       2  ...  13.00   NaN         S\n",
              "345          346         1       2  ...  13.00   F33         S\n",
              "407          408         1       2  ...  18.75   NaN         S\n",
              "211          212         1       2  ...  21.00   NaN         S\n",
              "779          780         1       1  ... 211.34    B3         S\n",
              "677          678         1       3  ...   9.84   NaN         S\n",
              "696          697         0       3  ...   8.05   NaN         S\n",
              "\n",
              "[15 rows x 12 columns]"
            ]
          },
          "metadata": {
            "tags": []
          },
          "execution_count": 9
        }
      ]
    },
    {
      "cell_type": "markdown",
      "metadata": {
        "id": "Mhpq5EjmhcMs",
        "colab_type": "text"
      },
      "source": [
        "From here, we'll start with the purely numeric features Pclass, Age, SibSp, Parch, and Fare, and we'll one-hot encode the categorical features Sex and Embarked. We'll leave Name, Ticket, and Cabin for later, since those are more complicated.\n",
        "\n",
        "First we'll look at some summary statistics for the numeric features."
      ]
    },
    {
      "cell_type": "code",
      "metadata": {
        "id": "ngL3yAJgi3-F",
        "colab_type": "code",
        "outputId": "ca363a35-50b9-4fe6-bacd-2596d4415e86",
        "colab": {
          "base_uri": "https://localhost:8080/",
          "height": 297
        }
      },
      "source": [
        "df_train.describe()"
      ],
      "execution_count": 0,
      "outputs": [
        {
          "output_type": "execute_result",
          "data": {
            "text/html": [
              "<div>\n",
              "<style scoped>\n",
              "    .dataframe tbody tr th:only-of-type {\n",
              "        vertical-align: middle;\n",
              "    }\n",
              "\n",
              "    .dataframe tbody tr th {\n",
              "        vertical-align: top;\n",
              "    }\n",
              "\n",
              "    .dataframe thead th {\n",
              "        text-align: right;\n",
              "    }\n",
              "</style>\n",
              "<table border=\"1\" class=\"dataframe\">\n",
              "  <thead>\n",
              "    <tr style=\"text-align: right;\">\n",
              "      <th></th>\n",
              "      <th>PassengerId</th>\n",
              "      <th>Survived</th>\n",
              "      <th>Pclass</th>\n",
              "      <th>Age</th>\n",
              "      <th>SibSp</th>\n",
              "      <th>Parch</th>\n",
              "      <th>Fare</th>\n",
              "    </tr>\n",
              "  </thead>\n",
              "  <tbody>\n",
              "    <tr>\n",
              "      <th>count</th>\n",
              "      <td>891.00</td>\n",
              "      <td>891.00</td>\n",
              "      <td>891.00</td>\n",
              "      <td>714.00</td>\n",
              "      <td>891.00</td>\n",
              "      <td>891.00</td>\n",
              "      <td>891.00</td>\n",
              "    </tr>\n",
              "    <tr>\n",
              "      <th>mean</th>\n",
              "      <td>446.00</td>\n",
              "      <td>0.38</td>\n",
              "      <td>2.31</td>\n",
              "      <td>29.70</td>\n",
              "      <td>0.52</td>\n",
              "      <td>0.38</td>\n",
              "      <td>32.20</td>\n",
              "    </tr>\n",
              "    <tr>\n",
              "      <th>std</th>\n",
              "      <td>257.35</td>\n",
              "      <td>0.49</td>\n",
              "      <td>0.84</td>\n",
              "      <td>14.53</td>\n",
              "      <td>1.10</td>\n",
              "      <td>0.81</td>\n",
              "      <td>49.69</td>\n",
              "    </tr>\n",
              "    <tr>\n",
              "      <th>min</th>\n",
              "      <td>1.00</td>\n",
              "      <td>0.00</td>\n",
              "      <td>1.00</td>\n",
              "      <td>0.42</td>\n",
              "      <td>0.00</td>\n",
              "      <td>0.00</td>\n",
              "      <td>0.00</td>\n",
              "    </tr>\n",
              "    <tr>\n",
              "      <th>25%</th>\n",
              "      <td>223.50</td>\n",
              "      <td>0.00</td>\n",
              "      <td>2.00</td>\n",
              "      <td>20.12</td>\n",
              "      <td>0.00</td>\n",
              "      <td>0.00</td>\n",
              "      <td>7.91</td>\n",
              "    </tr>\n",
              "    <tr>\n",
              "      <th>50%</th>\n",
              "      <td>446.00</td>\n",
              "      <td>0.00</td>\n",
              "      <td>3.00</td>\n",
              "      <td>28.00</td>\n",
              "      <td>0.00</td>\n",
              "      <td>0.00</td>\n",
              "      <td>14.45</td>\n",
              "    </tr>\n",
              "    <tr>\n",
              "      <th>75%</th>\n",
              "      <td>668.50</td>\n",
              "      <td>1.00</td>\n",
              "      <td>3.00</td>\n",
              "      <td>38.00</td>\n",
              "      <td>1.00</td>\n",
              "      <td>0.00</td>\n",
              "      <td>31.00</td>\n",
              "    </tr>\n",
              "    <tr>\n",
              "      <th>max</th>\n",
              "      <td>891.00</td>\n",
              "      <td>1.00</td>\n",
              "      <td>3.00</td>\n",
              "      <td>80.00</td>\n",
              "      <td>8.00</td>\n",
              "      <td>6.00</td>\n",
              "      <td>512.33</td>\n",
              "    </tr>\n",
              "  </tbody>\n",
              "</table>\n",
              "</div>"
            ],
            "text/plain": [
              "       PassengerId  Survived  Pclass    Age  SibSp  Parch   Fare\n",
              "count       891.00    891.00  891.00 714.00 891.00 891.00 891.00\n",
              "mean        446.00      0.38    2.31  29.70   0.52   0.38  32.20\n",
              "std         257.35      0.49    0.84  14.53   1.10   0.81  49.69\n",
              "min           1.00      0.00    1.00   0.42   0.00   0.00   0.00\n",
              "25%         223.50      0.00    2.00  20.12   0.00   0.00   7.91\n",
              "50%         446.00      0.00    3.00  28.00   0.00   0.00  14.45\n",
              "75%         668.50      1.00    3.00  38.00   1.00   0.00  31.00\n",
              "max         891.00      1.00    3.00  80.00   8.00   6.00 512.33"
            ]
          },
          "metadata": {
            "tags": []
          },
          "execution_count": 10
        }
      ]
    },
    {
      "cell_type": "markdown",
      "metadata": {
        "id": "Rq3fgOqxncsY",
        "colab_type": "text"
      },
      "source": [
        "Now let's look at a correlation matrix to see what features we should consider using. Values close to 0 imply the feature is not very useful. Values close to 1 imply a strong positive correlation and values close to -1 imply a strong negative correlation - these features will help train our model.\n",
        "\n",
        "The two features most strongly correlated with survival are Pclass and Fare. But notice that these features are also correlated with each other: this means that using both may not add much to the model. \n",
        "\n",
        "But since the number of our features and examples is on the scale of hundreds rather than millions, we can add features freely without worrying about training time. So for now we will consider all features."
      ]
    },
    {
      "cell_type": "code",
      "metadata": {
        "id": "iNlRRzoZnv5w",
        "colab_type": "code",
        "outputId": "0c9dcaad-1438-4166-c069-b77012e79006",
        "colab": {
          "base_uri": "https://localhost:8080/",
          "height": 266
        }
      },
      "source": [
        "df_train.corr(method='pearson')"
      ],
      "execution_count": 0,
      "outputs": [
        {
          "output_type": "execute_result",
          "data": {
            "text/html": [
              "<div>\n",
              "<style scoped>\n",
              "    .dataframe tbody tr th:only-of-type {\n",
              "        vertical-align: middle;\n",
              "    }\n",
              "\n",
              "    .dataframe tbody tr th {\n",
              "        vertical-align: top;\n",
              "    }\n",
              "\n",
              "    .dataframe thead th {\n",
              "        text-align: right;\n",
              "    }\n",
              "</style>\n",
              "<table border=\"1\" class=\"dataframe\">\n",
              "  <thead>\n",
              "    <tr style=\"text-align: right;\">\n",
              "      <th></th>\n",
              "      <th>PassengerId</th>\n",
              "      <th>Survived</th>\n",
              "      <th>Pclass</th>\n",
              "      <th>Age</th>\n",
              "      <th>SibSp</th>\n",
              "      <th>Parch</th>\n",
              "      <th>Fare</th>\n",
              "    </tr>\n",
              "  </thead>\n",
              "  <tbody>\n",
              "    <tr>\n",
              "      <th>PassengerId</th>\n",
              "      <td>1.00</td>\n",
              "      <td>-0.01</td>\n",
              "      <td>-0.04</td>\n",
              "      <td>0.04</td>\n",
              "      <td>-0.06</td>\n",
              "      <td>-0.00</td>\n",
              "      <td>0.01</td>\n",
              "    </tr>\n",
              "    <tr>\n",
              "      <th>Survived</th>\n",
              "      <td>-0.01</td>\n",
              "      <td>1.00</td>\n",
              "      <td>-0.34</td>\n",
              "      <td>-0.08</td>\n",
              "      <td>-0.04</td>\n",
              "      <td>0.08</td>\n",
              "      <td>0.26</td>\n",
              "    </tr>\n",
              "    <tr>\n",
              "      <th>Pclass</th>\n",
              "      <td>-0.04</td>\n",
              "      <td>-0.34</td>\n",
              "      <td>1.00</td>\n",
              "      <td>-0.37</td>\n",
              "      <td>0.08</td>\n",
              "      <td>0.02</td>\n",
              "      <td>-0.55</td>\n",
              "    </tr>\n",
              "    <tr>\n",
              "      <th>Age</th>\n",
              "      <td>0.04</td>\n",
              "      <td>-0.08</td>\n",
              "      <td>-0.37</td>\n",
              "      <td>1.00</td>\n",
              "      <td>-0.31</td>\n",
              "      <td>-0.19</td>\n",
              "      <td>0.10</td>\n",
              "    </tr>\n",
              "    <tr>\n",
              "      <th>SibSp</th>\n",
              "      <td>-0.06</td>\n",
              "      <td>-0.04</td>\n",
              "      <td>0.08</td>\n",
              "      <td>-0.31</td>\n",
              "      <td>1.00</td>\n",
              "      <td>0.41</td>\n",
              "      <td>0.16</td>\n",
              "    </tr>\n",
              "    <tr>\n",
              "      <th>Parch</th>\n",
              "      <td>-0.00</td>\n",
              "      <td>0.08</td>\n",
              "      <td>0.02</td>\n",
              "      <td>-0.19</td>\n",
              "      <td>0.41</td>\n",
              "      <td>1.00</td>\n",
              "      <td>0.22</td>\n",
              "    </tr>\n",
              "    <tr>\n",
              "      <th>Fare</th>\n",
              "      <td>0.01</td>\n",
              "      <td>0.26</td>\n",
              "      <td>-0.55</td>\n",
              "      <td>0.10</td>\n",
              "      <td>0.16</td>\n",
              "      <td>0.22</td>\n",
              "      <td>1.00</td>\n",
              "    </tr>\n",
              "  </tbody>\n",
              "</table>\n",
              "</div>"
            ],
            "text/plain": [
              "             PassengerId  Survived  Pclass   Age  SibSp  Parch  Fare\n",
              "PassengerId         1.00     -0.01   -0.04  0.04  -0.06  -0.00  0.01\n",
              "Survived           -0.01      1.00   -0.34 -0.08  -0.04   0.08  0.26\n",
              "Pclass             -0.04     -0.34    1.00 -0.37   0.08   0.02 -0.55\n",
              "Age                 0.04     -0.08   -0.37  1.00  -0.31  -0.19  0.10\n",
              "SibSp              -0.06     -0.04    0.08 -0.31   1.00   0.41  0.16\n",
              "Parch              -0.00      0.08    0.02 -0.19   0.41   1.00  0.22\n",
              "Fare                0.01      0.26   -0.55  0.10   0.16   0.22  1.00"
            ]
          },
          "metadata": {
            "tags": []
          },
          "execution_count": 6
        }
      ]
    },
    {
      "cell_type": "markdown",
      "metadata": {
        "id": "6P9RuUOB0aBY",
        "colab_type": "text"
      },
      "source": [
        "# Cleaning the Data"
      ]
    },
    {
      "cell_type": "markdown",
      "metadata": {
        "id": "0vAsppxE1bAJ",
        "colab_type": "text"
      },
      "source": [
        "Now let's start wrangling the data. The goal is to fill in missing values and make the data as simple as possible."
      ]
    },
    {
      "cell_type": "markdown",
      "metadata": {
        "id": "OvM2oTLnmAVQ",
        "colab_type": "text"
      },
      "source": [
        "For Age and Fare, we can sort the data into bins to make the numbers smaller and account for outliers. But first notice that the count for Age is 714 instead of the 891 for the other columns. This means that some values for Age are missing, and we will need to fill them in to train our model. We'll fill them in using the mean."
      ]
    },
    {
      "cell_type": "markdown",
      "metadata": {
        "id": "jzbEu22ek3dz",
        "colab_type": "text"
      },
      "source": [
        "Next we'll one-hot encode Sex and Embarked. We'll create a new column Female and Columns for each of the three embarkation locations, marking a 1 if a passenger is female and a 1 in the column they embarked from.\n",
        "\n",
        "We don't need a column for male or any other gender since the manifest lists exactly two genders, so a passenger is either one gender (female) or not."
      ]
    },
    {
      "cell_type": "markdown",
      "metadata": {
        "id": "17CCzueLEOnA",
        "colab_type": "text"
      },
      "source": [
        "To bin Age, we'll first compare Age to Survival."
      ]
    },
    {
      "cell_type": "code",
      "metadata": {
        "id": "AjVX4fkFEZzw",
        "colab_type": "code",
        "outputId": "30593c16-8522-49cd-a574-3af9e5fd9e75",
        "colab": {
          "base_uri": "https://localhost:8080/",
          "height": 282
        }
      },
      "source": [
        "df_train.groupby('Survived')['Age'].plot(kind='hist')\n",
        "plt.legend()"
      ],
      "execution_count": 0,
      "outputs": [
        {
          "output_type": "execute_result",
          "data": {
            "text/plain": [
              "<matplotlib.legend.Legend at 0x7ffa2d886518>"
            ]
          },
          "metadata": {
            "tags": []
          },
          "execution_count": 7
        },
        {
          "output_type": "display_data",
          "data": {
            "image/png": "[encoded data removed]",
            "text/plain": [
              "<Figure size 432x288 with 1 Axes>"
            ]
          },
          "metadata": {
            "tags": []
          }
        }
      ]
    },
    {
      "cell_type": "markdown",
      "metadata": {
        "id": "8DNmSPv5G2HA",
        "colab_type": "text"
      },
      "source": [
        "From this we can see that children under 16 were much more likely to survive than not survive, and young adults from 16 to about 30 were more likely not to survive. Similarly, adults aged about 40 to 50 were less likely to survive. From this, bins with a length of 16 would group the data fairly well to correlate with survival."
      ]
    },
    {
      "cell_type": "markdown",
      "metadata": {
        "id": "uwc4NhisGkYW",
        "colab_type": "text"
      },
      "source": [
        "Now we'll do the same with Fare. But when we try the same code, we get a plot that's a little hard to understand."
      ]
    },
    {
      "cell_type": "code",
      "metadata": {
        "id": "gR8EAvZiGmx7",
        "colab_type": "code",
        "outputId": "3e6e3a8f-778b-4a07-e8ac-8c8e480d4629",
        "colab": {
          "base_uri": "https://localhost:8080/",
          "height": 282
        }
      },
      "source": [
        "df_train.groupby('Survived')['Fare'].plot(kind='hist')\n",
        "plt.legend()"
      ],
      "execution_count": 0,
      "outputs": [
        {
          "output_type": "execute_result",
          "data": {
            "text/plain": [
              "<matplotlib.legend.Legend at 0x7ffa2c81d5f8>"
            ]
          },
          "metadata": {
            "tags": []
          },
          "execution_count": 10
        },
        {
          "output_type": "display_data",
          "data": {
            "image/png": "[encoded data removed]",
            "text/plain": [
              "<Figure size 432x288 with 1 Axes>"
            ]
          },
          "metadata": {
            "tags": []
          }
        }
      ]
    },
    {
      "cell_type": "markdown",
      "metadata": {
        "id": "pxblpts5vQXK",
        "colab_type": "text"
      },
      "source": [
        "This is because Fare contains some heavy outliers. We'll instead manually bin the data based on its quartiles. We'll also use a logarithmic scale for the $x$-axis for readability."
      ]
    },
    {
      "cell_type": "code",
      "metadata": {
        "id": "SX7-M9XQvY6S",
        "colab_type": "code",
        "outputId": "fbdbb289-0012-4c6c-e04f-b3afced5e7d9",
        "colab": {
          "base_uri": "https://localhost:8080/",
          "height": 286
        }
      },
      "source": [
        "df_train.groupby('Survived')['Fare'].plot(kind='hist', bins=[0, 8, 15, 31, 513])\n",
        "plt.xscale('log')\n",
        "plt.legend()"
      ],
      "execution_count": 0,
      "outputs": [
        {
          "output_type": "execute_result",
          "data": {
            "text/plain": [
              "<matplotlib.legend.Legend at 0x7ffa2b8e5588>"
            ]
          },
          "metadata": {
            "tags": []
          },
          "execution_count": 12
        },
        {
          "output_type": "display_data",
          "data": {
            "image/png": "[encoded data removed]",
            "text/plain": [
              "<Figure size 432x288 with 1 Axes>"
            ]
          },
          "metadata": {
            "tags": []
          }
        }
      ]
    },
    {
      "cell_type": "markdown",
      "metadata": {
        "id": "3XTP3pYox0ks",
        "colab_type": "text"
      },
      "source": [
        "From here we can see that passengers whose fares were in the lower half were much less likely to survive. We'll bin the data based on these values."
      ]
    },
    {
      "cell_type": "code",
      "metadata": {
        "id": "p2NfqnkXlmHe",
        "colab_type": "code",
        "colab": {}
      },
      "source": [
        "def clean_features(df):\n",
        "  \"\"\"Converts string categorical features into numeric ones. Also fills null values.\n",
        "\n",
        "  Args:\n",
        "    df: A pandas DataFrame expected to contain the Titanic data.\n",
        "  Returns:\n",
        "    A DataFrame that contains some features to be considered in the model;\n",
        "    does not include synthetic features.\n",
        "  \"\"\"\n",
        "  selected_features = df[['Sex','Embarked', 'Age', 'Fare']]\n",
        "  cleaned_features = pd.DataFrame()\n",
        "\n",
        "  #Sex: convert to binary value\n",
        "  cleaned_features['Female'] = np.multiply(df.Sex == 'female', 1)\n",
        "\n",
        "  #Embarked: one-hot encode\n",
        "  cleaned_features['Q'] = np.multiply(df.Embarked == 'Q', 1)\n",
        "  cleaned_features['S'] = np.multiply(df.Embarked == 'S', 1)\n",
        "  cleaned_features['C'] = np.multiply(df.Embarked == 'C', 1)\n",
        "\n",
        "  #Age: fill NaNs with mean\n",
        "  age_mean = selected_features.Age.dropna().mean()\n",
        "  cleaned_features['Age'] = selected_features['Age'].fillna(value=age_mean)\n",
        "  cleaned_features['Age'] = cleaned_features['Age'].astype(int)\n",
        "\n",
        "  #Age: bin data into 5 groups (of length 16)\n",
        "  cleaned_features['Age'] = pd.cut(cleaned_features['Age'], 5, labels=[1, 2, 3, 4, 5])\n",
        "  cleaned_features['Age'] = cleaned_features['Age'].astype(int)\n",
        "\n",
        "  #Fare: bin data based on quartiles\n",
        "  cleaned_features['Fare'] = pd.cut(selected_features['Fare'],[-1, 8, 15, 31, 513], labels=[1, 2, 3, 4])\n",
        "  cleaned_features['Fare'] = cleaned_features['Fare'].astype(int)\n",
        "\n",
        "  #print(cleaned_features.dtypes)\n",
        "\n",
        "  return cleaned_features"
      ],
      "execution_count": 0,
      "outputs": []
    },
    {
      "cell_type": "code",
      "metadata": {
        "id": "i9EhRcJsPTb8",
        "colab_type": "code",
        "outputId": "17ba5bf5-c96b-4fcd-87b7-b0594ffa03e5",
        "colab": {
          "base_uri": "https://localhost:8080/",
          "height": 419
        }
      },
      "source": [
        "clean_features(df_train)"
      ],
      "execution_count": 0,
      "outputs": [
        {
          "output_type": "execute_result",
          "data": {
            "text/html": [
              "<div>\n",
              "<style scoped>\n",
              "    .dataframe tbody tr th:only-of-type {\n",
              "        vertical-align: middle;\n",
              "    }\n",
              "\n",
              "    .dataframe tbody tr th {\n",
              "        vertical-align: top;\n",
              "    }\n",
              "\n",
              "    .dataframe thead th {\n",
              "        text-align: right;\n",
              "    }\n",
              "</style>\n",
              "<table border=\"1\" class=\"dataframe\">\n",
              "  <thead>\n",
              "    <tr style=\"text-align: right;\">\n",
              "      <th></th>\n",
              "      <th>Female</th>\n",
              "      <th>Q</th>\n",
              "      <th>S</th>\n",
              "      <th>C</th>\n",
              "      <th>Age</th>\n",
              "      <th>Fare</th>\n",
              "    </tr>\n",
              "  </thead>\n",
              "  <tbody>\n",
              "    <tr>\n",
              "      <th>66</th>\n",
              "      <td>1</td>\n",
              "      <td>0</td>\n",
              "      <td>1</td>\n",
              "      <td>0</td>\n",
              "      <td>2</td>\n",
              "      <td>2</td>\n",
              "    </tr>\n",
              "    <tr>\n",
              "      <th>750</th>\n",
              "      <td>1</td>\n",
              "      <td>0</td>\n",
              "      <td>1</td>\n",
              "      <td>0</td>\n",
              "      <td>1</td>\n",
              "      <td>3</td>\n",
              "    </tr>\n",
              "    <tr>\n",
              "      <th>782</th>\n",
              "      <td>0</td>\n",
              "      <td>0</td>\n",
              "      <td>1</td>\n",
              "      <td>0</td>\n",
              "      <td>2</td>\n",
              "      <td>3</td>\n",
              "    </tr>\n",
              "    <tr>\n",
              "      <th>695</th>\n",
              "      <td>0</td>\n",
              "      <td>0</td>\n",
              "      <td>1</td>\n",
              "      <td>0</td>\n",
              "      <td>4</td>\n",
              "      <td>2</td>\n",
              "    </tr>\n",
              "    <tr>\n",
              "      <th>200</th>\n",
              "      <td>0</td>\n",
              "      <td>0</td>\n",
              "      <td>1</td>\n",
              "      <td>0</td>\n",
              "      <td>2</td>\n",
              "      <td>2</td>\n",
              "    </tr>\n",
              "    <tr>\n",
              "      <th>...</th>\n",
              "      <td>...</td>\n",
              "      <td>...</td>\n",
              "      <td>...</td>\n",
              "      <td>...</td>\n",
              "      <td>...</td>\n",
              "      <td>...</td>\n",
              "    </tr>\n",
              "    <tr>\n",
              "      <th>536</th>\n",
              "      <td>0</td>\n",
              "      <td>0</td>\n",
              "      <td>1</td>\n",
              "      <td>0</td>\n",
              "      <td>3</td>\n",
              "      <td>3</td>\n",
              "    </tr>\n",
              "    <tr>\n",
              "      <th>123</th>\n",
              "      <td>1</td>\n",
              "      <td>0</td>\n",
              "      <td>1</td>\n",
              "      <td>0</td>\n",
              "      <td>2</td>\n",
              "      <td>2</td>\n",
              "    </tr>\n",
              "    <tr>\n",
              "      <th>567</th>\n",
              "      <td>1</td>\n",
              "      <td>0</td>\n",
              "      <td>1</td>\n",
              "      <td>0</td>\n",
              "      <td>2</td>\n",
              "      <td>3</td>\n",
              "    </tr>\n",
              "    <tr>\n",
              "      <th>407</th>\n",
              "      <td>0</td>\n",
              "      <td>0</td>\n",
              "      <td>1</td>\n",
              "      <td>0</td>\n",
              "      <td>1</td>\n",
              "      <td>3</td>\n",
              "    </tr>\n",
              "    <tr>\n",
              "      <th>757</th>\n",
              "      <td>0</td>\n",
              "      <td>0</td>\n",
              "      <td>1</td>\n",
              "      <td>0</td>\n",
              "      <td>2</td>\n",
              "      <td>2</td>\n",
              "    </tr>\n",
              "  </tbody>\n",
              "</table>\n",
              "<p>891 rows × 6 columns</p>\n",
              "</div>"
            ],
            "text/plain": [
              "     Female  Q  S  C  Age  Fare\n",
              "66        1  0  1  0    2     2\n",
              "750       1  0  1  0    1     3\n",
              "782       0  0  1  0    2     3\n",
              "695       0  0  1  0    4     2\n",
              "200       0  0  1  0    2     2\n",
              "..      ... .. .. ..  ...   ...\n",
              "536       0  0  1  0    3     3\n",
              "123       1  0  1  0    2     2\n",
              "567       1  0  1  0    2     3\n",
              "407       0  0  1  0    1     3\n",
              "757       0  0  1  0    2     2\n",
              "\n",
              "[891 rows x 6 columns]"
            ]
          },
          "metadata": {
            "tags": []
          },
          "execution_count": 7
        }
      ]
    },
    {
      "cell_type": "markdown",
      "metadata": {
        "id": "SaIBnQjgOmeW",
        "colab_type": "text"
      },
      "source": [
        "# Engineering the Data"
      ]
    },
    {
      "cell_type": "markdown",
      "metadata": {
        "id": "Mez2Sq0QDFWh",
        "colab_type": "text"
      },
      "source": [
        "Now we can look into some feature engineering. Let's first create a Women & Children feature, since we know that women and children were boarded onto lifeboats first and so were more likely to survive. We'll create a binary column with 1 if a passenger was female or at most 16 and 0 otherwise."
      ]
    },
    {
      "cell_type": "code",
      "metadata": {
        "id": "TSinPGZJrMWF",
        "colab_type": "code",
        "colab": {}
      },
      "source": [
        "def preprocess_features(df):\n",
        "  \"\"\"Prepares input features from the DataFrame.\n",
        "\n",
        "  Args:\n",
        "    df: A pandas DataFrame expected to contain the Titanic data, already cleaned.\n",
        "  Returns:\n",
        "    A DataFrame that contains the features to be used in the model, including\n",
        "      synthetic features.\n",
        "  \"\"\"\n",
        "  selected_features = df[['Pclass']]\n",
        "\n",
        "  #Add cleaned features\n",
        "  selected_features = pd.concat([selected_features, clean_features(df)], axis=1, sort=False)\n",
        "\n",
        "  processed_features = selected_features.copy()\n",
        "\n",
        "  #Create synthetic features\n",
        "\n",
        "  #Create feature that logs if a passenger is female or a child.\n",
        "  #Note that Age has been binned, so Age = 1 corresponds to ages up to 16.\n",
        "  processed_features['F or Child'] = 0\n",
        "  processed_features['F or Child'].loc[clean_features(df).Age == 1] = 1\n",
        "  processed_features['F or Child'].loc[clean_features(df).Female == 1] = 1  \n",
        "\n",
        "  return processed_features"
      ],
      "execution_count": 0,
      "outputs": []
    },
    {
      "cell_type": "code",
      "metadata": {
        "id": "ZRxCEV3AsFw2",
        "colab_type": "code",
        "outputId": "cd411ca0-34b9-4575-e1c2-1a5861ae6f1f",
        "colab": {
          "base_uri": "https://localhost:8080/",
          "height": 419
        }
      },
      "source": [
        "preprocess_features(df_train)"
      ],
      "execution_count": 0,
      "outputs": [
        {
          "output_type": "execute_result",
          "data": {
            "text/html": [
              "<div>\n",
              "<style scoped>\n",
              "    .dataframe tbody tr th:only-of-type {\n",
              "        vertical-align: middle;\n",
              "    }\n",
              "\n",
              "    .dataframe tbody tr th {\n",
              "        vertical-align: top;\n",
              "    }\n",
              "\n",
              "    .dataframe thead th {\n",
              "        text-align: right;\n",
              "    }\n",
              "</style>\n",
              "<table border=\"1\" class=\"dataframe\">\n",
              "  <thead>\n",
              "    <tr style=\"text-align: right;\">\n",
              "      <th></th>\n",
              "      <th>Pclass</th>\n",
              "      <th>Female</th>\n",
              "      <th>Q</th>\n",
              "      <th>S</th>\n",
              "      <th>C</th>\n",
              "      <th>Age</th>\n",
              "      <th>Fare</th>\n",
              "      <th>F or Child</th>\n",
              "    </tr>\n",
              "  </thead>\n",
              "  <tbody>\n",
              "    <tr>\n",
              "      <th>66</th>\n",
              "      <td>2</td>\n",
              "      <td>1</td>\n",
              "      <td>0</td>\n",
              "      <td>1</td>\n",
              "      <td>0</td>\n",
              "      <td>2</td>\n",
              "      <td>2</td>\n",
              "      <td>1</td>\n",
              "    </tr>\n",
              "    <tr>\n",
              "      <th>750</th>\n",
              "      <td>2</td>\n",
              "      <td>1</td>\n",
              "      <td>0</td>\n",
              "      <td>1</td>\n",
              "      <td>0</td>\n",
              "      <td>1</td>\n",
              "      <td>3</td>\n",
              "      <td>1</td>\n",
              "    </tr>\n",
              "    <tr>\n",
              "      <th>782</th>\n",
              "      <td>1</td>\n",
              "      <td>0</td>\n",
              "      <td>0</td>\n",
              "      <td>1</td>\n",
              "      <td>0</td>\n",
              "      <td>2</td>\n",
              "      <td>3</td>\n",
              "      <td>0</td>\n",
              "    </tr>\n",
              "    <tr>\n",
              "      <th>695</th>\n",
              "      <td>2</td>\n",
              "      <td>0</td>\n",
              "      <td>0</td>\n",
              "      <td>1</td>\n",
              "      <td>0</td>\n",
              "      <td>4</td>\n",
              "      <td>2</td>\n",
              "      <td>0</td>\n",
              "    </tr>\n",
              "    <tr>\n",
              "      <th>200</th>\n",
              "      <td>3</td>\n",
              "      <td>0</td>\n",
              "      <td>0</td>\n",
              "      <td>1</td>\n",
              "      <td>0</td>\n",
              "      <td>2</td>\n",
              "      <td>2</td>\n",
              "      <td>0</td>\n",
              "    </tr>\n",
              "    <tr>\n",
              "      <th>...</th>\n",
              "      <td>...</td>\n",
              "      <td>...</td>\n",
              "      <td>...</td>\n",
              "      <td>...</td>\n",
              "      <td>...</td>\n",
              "      <td>...</td>\n",
              "      <td>...</td>\n",
              "      <td>...</td>\n",
              "    </tr>\n",
              "    <tr>\n",
              "      <th>536</th>\n",
              "      <td>1</td>\n",
              "      <td>0</td>\n",
              "      <td>0</td>\n",
              "      <td>1</td>\n",
              "      <td>0</td>\n",
              "      <td>3</td>\n",
              "      <td>3</td>\n",
              "      <td>0</td>\n",
              "    </tr>\n",
              "    <tr>\n",
              "      <th>123</th>\n",
              "      <td>2</td>\n",
              "      <td>1</td>\n",
              "      <td>0</td>\n",
              "      <td>1</td>\n",
              "      <td>0</td>\n",
              "      <td>2</td>\n",
              "      <td>2</td>\n",
              "      <td>1</td>\n",
              "    </tr>\n",
              "    <tr>\n",
              "      <th>567</th>\n",
              "      <td>3</td>\n",
              "      <td>1</td>\n",
              "      <td>0</td>\n",
              "      <td>1</td>\n",
              "      <td>0</td>\n",
              "      <td>2</td>\n",
              "      <td>3</td>\n",
              "      <td>1</td>\n",
              "    </tr>\n",
              "    <tr>\n",
              "      <th>407</th>\n",
              "      <td>2</td>\n",
              "      <td>0</td>\n",
              "      <td>0</td>\n",
              "      <td>1</td>\n",
              "      <td>0</td>\n",
              "      <td>1</td>\n",
              "      <td>3</td>\n",
              "      <td>1</td>\n",
              "    </tr>\n",
              "    <tr>\n",
              "      <th>757</th>\n",
              "      <td>2</td>\n",
              "      <td>0</td>\n",
              "      <td>0</td>\n",
              "      <td>1</td>\n",
              "      <td>0</td>\n",
              "      <td>2</td>\n",
              "      <td>2</td>\n",
              "      <td>0</td>\n",
              "    </tr>\n",
              "  </tbody>\n",
              "</table>\n",
              "<p>891 rows × 8 columns</p>\n",
              "</div>"
            ],
            "text/plain": [
              "     Pclass  Female  Q  S  C  Age  Fare  F or Child\n",
              "66        2       1  0  1  0    2     2           1\n",
              "750       2       1  0  1  0    1     3           1\n",
              "782       1       0  0  1  0    2     3           0\n",
              "695       2       0  0  1  0    4     2           0\n",
              "200       3       0  0  1  0    2     2           0\n",
              "..      ...     ... .. .. ..  ...   ...         ...\n",
              "536       1       0  0  1  0    3     3           0\n",
              "123       2       1  0  1  0    2     2           1\n",
              "567       3       1  0  1  0    2     3           1\n",
              "407       2       0  0  1  0    1     3           1\n",
              "757       2       0  0  1  0    2     2           0\n",
              "\n",
              "[891 rows x 8 columns]"
            ]
          },
          "metadata": {
            "tags": []
          },
          "execution_count": 9
        }
      ]
    },
    {
      "cell_type": "markdown",
      "metadata": {
        "id": "K9NU_e7-Orlu",
        "colab_type": "text"
      },
      "source": [
        "# Buiding the Model"
      ]
    },
    {
      "cell_type": "markdown",
      "metadata": {
        "id": "vNq9oQ65Kh-r",
        "colab_type": "text"
      },
      "source": [
        "Now let's build our model. We'll separate the data into features and labels and then use logistic regression to predict survival. "
      ]
    },
    {
      "cell_type": "code",
      "metadata": {
        "id": "P7-8exgsNY43",
        "colab_type": "code",
        "colab": {}
      },
      "source": [
        "features = preprocess_features(df_train)\n",
        "targets = df_train['Survived']\n",
        "test_features = preprocess_features(df_test)"
      ],
      "execution_count": 0,
      "outputs": []
    },
    {
      "cell_type": "code",
      "metadata": {
        "id": "2fqQo38HKxz6",
        "colab_type": "code",
        "outputId": "c5242187-c275-4900-b300-6aad0e1c6a55",
        "colab": {
          "base_uri": "https://localhost:8080/",
          "height": 34
        }
      },
      "source": [
        "logreg = LogisticRegression()\n",
        "logreg.fit(features, targets)\n",
        "predictions = logreg.predict(test_features)\n",
        "acc_log = round(logreg.score(features, targets)*100, 2)\n",
        "print(acc_log)\n"
      ],
      "execution_count": 0,
      "outputs": [
        {
          "output_type": "stream",
          "text": [
            "79.91\n"
          ],
          "name": "stdout"
        }
      ]
    },
    {
      "cell_type": "markdown",
      "metadata": {
        "id": "VzhoSrkR2VfO",
        "colab_type": "text"
      },
      "source": [
        "And with that, we have an accuracy of 79.91%. Not bad, but probably could be better. Or perhaps use fewer features to obtain the same accuracy. \n",
        "\n",
        "In Part 2 (coming soon) we'll look at wrangling the string data."
      ]
    }
  ]
}